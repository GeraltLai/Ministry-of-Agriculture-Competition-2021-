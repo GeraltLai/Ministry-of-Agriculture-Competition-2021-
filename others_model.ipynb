{
  "nbformat": 4,
  "nbformat_minor": 0,
  "metadata": {
    "colab": {
      "name": "演算法.ipynb",
      "provenance": [],
      "collapsed_sections": []
    },
    "kernelspec": {
      "name": "python3",
      "display_name": "Python 3"
    }
  },
  "cells": [
    {
      "cell_type": "code",
      "metadata": {
        "id": "_A4mIk280af5"
      },
      "source": [
        "import keras\r\n",
        "from keras.utils import to_categorical\r\n",
        "import numpy as np\r\n",
        "import pandas as pd\r\n",
        "import gc\r\n",
        "from sklearn.model_selection import train_test_split\r\n",
        "from keras import models\r\n",
        "from keras import layers\r\n",
        "from keras import optimizers\r\n",
        "from keras import regularizers\r\n",
        "import xgboost as xgb\r\n",
        "#models\r\n",
        "from keras import regularizers\r\n",
        "from tensorflow.keras.callbacks import ModelCheckpoint, EarlyStopping, ReduceLROnPlateau\r\n",
        "from sklearn.metrics import accuracy_score\r\n",
        " \r\n",
        "import os\r\n",
        "import matplotlib.pyplot as plt\r\n",
        "from xgboost import XGBClassifier\r\n",
        "from sklearn.multiclass import OneVsRestClassifier\r\n",
        "from sklearn.preprocessing import MultiLabelBinarizer\r\n",
        "from sklearn.metrics import multilabel_confusion_matrix \r\n",
        "from sklearn.datasets import make_multilabel_classification\r\n",
        "from sklearn.model_selection import train_test_split\r\n",
        "from sklearn.multioutput import MultiOutputClassifier"
      ],
      "execution_count": 1,
      "outputs": []
    },
    {
      "cell_type": "code",
      "metadata": {
        "id": "cZRrvnpE0cbF"
      },
      "source": [
        "train = pd.read_csv('train_data.csv')    # reading the csv file"
      ],
      "execution_count": 49,
      "outputs": []
    },
    {
      "cell_type": "code",
      "metadata": {
        "id": "XwUUyj2kse44"
      },
      "source": [
        "xtrain = train[train.columns[2:20]]\r\n",
        "ytrain = train[train.columns[20:31]]"
      ],
      "execution_count": 9,
      "outputs": []
    },
    {
      "cell_type": "code",
      "metadata": {
        "id": "uVgMh16abLUN"
      },
      "source": [
        "cpuconf = { \r\n",
        "    'max_depth': 10,\r\n",
        "    'n_estimators': 1300, #1000\r\n",
        "    'objective': 'binary:logistic',\r\n",
        "    'verbose': 1\r\n",
        "}"
      ],
      "execution_count": 19,
      "outputs": []
    },
    {
      "cell_type": "code",
      "metadata": {
        "id": "tMWs2ZGH-rL8"
      },
      "source": [
        "xgb_estimator = xgb.XGBClassifier(**cpuconf)"
      ],
      "execution_count": 20,
      "outputs": []
    },
    {
      "cell_type": "code",
      "metadata": {
        "id": "GdyEXJwDKZUq"
      },
      "source": [
        "multilabel_model = MultiOutputClassifier(xgb_estimator)"
      ],
      "execution_count": 21,
      "outputs": []
    },
    {
      "cell_type": "code",
      "metadata": {
        "colab": {
          "base_uri": "https://localhost:8080/"
        },
        "id": "R0so4rQo1i03",
        "outputId": "a479dd40-8d80-44c0-cea4-1d7bdda8dc02"
      },
      "source": [
        "multilabel_model.fit(xtrain, ytrain)"
      ],
      "execution_count": 48,
      "outputs": [
        {
          "output_type": "execute_result",
          "data": {
            "text/plain": [
              "MultiOutputClassifier(estimator=XGBClassifier(base_score=0.5, booster='gbtree',\n",
              "                                              colsample_bylevel=1,\n",
              "                                              colsample_bynode=1,\n",
              "                                              colsample_bytree=1, gamma=0,\n",
              "                                              learning_rate=0.1,\n",
              "                                              max_delta_step=0, max_depth=10,\n",
              "                                              min_child_weight=1, missing=None,\n",
              "                                              n_estimators=1300, n_jobs=1,\n",
              "                                              nthread=None,\n",
              "                                              objective='binary:logistic',\n",
              "                                              random_state=0, reg_alpha=0,\n",
              "                                              reg_lambda=1, scale_pos_weight=1,\n",
              "                                              seed=None, silent=None,\n",
              "                                              subsample=1, verbose=1,\n",
              "                                              verbosity=1),\n",
              "                      n_jobs=None)"
            ]
          },
          "metadata": {
            "tags": []
          },
          "execution_count": 48
        }
      ]
    },
    {
      "cell_type": "code",
      "metadata": {
        "id": "6DT4N8vZ_9od"
      },
      "source": [
        "game_train = pd.read_csv('test_data.csv')\r\n",
        "submission = pd.read_csv('submission.csv')"
      ],
      "execution_count": 50,
      "outputs": []
    },
    {
      "cell_type": "code",
      "metadata": {
        "id": "TS1Ltir1FwM3"
      },
      "source": [
        "game_train = game_train[game_train.columns[2:20]]"
      ],
      "execution_count": 51,
      "outputs": []
    },
    {
      "cell_type": "code",
      "metadata": {
        "id": "5hoVsD3FFnVE"
      },
      "source": [
        "y_true_pred = multilabel_model.predict(game_train)"
      ],
      "execution_count": 52,
      "outputs": []
    },
    {
      "cell_type": "code",
      "metadata": {
        "id": "4ubCnfEgF-BC"
      },
      "source": [
        "my_submission = pd.DataFrame(y_true_pred)"
      ],
      "execution_count": 53,
      "outputs": []
    },
    {
      "cell_type": "code",
      "metadata": {
        "id": "rSWaJ0CBHmjJ"
      },
      "source": [
        "my_submission = my_submission.rename(columns={0: \"actuator01\", 1: \"actuator02\", 2: \"actuator03\", 3: \"actuator04\", 4: \"actuator05\", 5: \"actuator06\", 6: \"actuator07\", 7: \"actuator08\", 8:  \"actuator9\", 9: \"actuator10\", 10: \"actuator11\"})"
      ],
      "execution_count": 54,
      "outputs": []
    },
    {
      "cell_type": "code",
      "metadata": {
        "id": "15xT7TxCF-wp"
      },
      "source": [
        "my_submission.to_csv('result.csv', index=True)"
      ],
      "execution_count": 55,
      "outputs": []
    }
  ]
}